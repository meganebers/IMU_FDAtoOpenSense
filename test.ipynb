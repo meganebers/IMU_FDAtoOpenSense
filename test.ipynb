{
 "cells": [
  {
   "cell_type": "code",
   "execution_count": 1,
   "metadata": {},
   "outputs": [],
   "source": [
    "import os\n",
    "import pandas as pd\n",
    "import numpy as np\n",
    "import re"
   ]
  },
  {
   "cell_type": "code",
   "execution_count": 24,
   "metadata": {},
   "outputs": [],
   "source": [
    "import csv\n",
    "\n",
    "# Mapping for IMUsensor to OpenSim\n",
    "imu_to_opensim = {\n",
    "    \"L_Ankle\": \"talus_l_imu\",\n",
    "    \"L_DorsalFoot\": \"calcn_l_imu\",\n",
    "    \"L_LatShank\": \"tibia_l_imu\",\n",
    "    \"L_MidLatThigh\": \"femur_l_imu\",\n",
    "    \"L_Wrist\": \"radius_l_imu\",\n",
    "    \"LowerBack\": \"pelvis_imu\",\n",
    "    \"R_Ankle\": \"talus_r_imu\",\n",
    "    \"R_DorsalFoot\": \"calcn_r_imu\",\n",
    "    \"R_LatShank\": \"tibia_r_imu\",\n",
    "    \"R_MidLatThigh\": \"femur_r_imu\",\n",
    "    \"R_Wrist\": \"radius_r_imu\",\n",
    "    \"Xiphoid\": \"torso_imu\"\n",
    "}\n",
    "\n",
    "# Function to process the CSV file and generate the output text file\n",
    "def reformat_data(input_csv, output_txt):\n",
    "    with open(input_csv, mode='r') as infile, open(output_txt, mode='w') as outfile:\n",
    "        reader = csv.DictReader(infile)\n",
    "        \n",
    "        # Writing the header lines\n",
    "        outfile.write(\"DataRate=100.000000\\n\")\n",
    "        outfile.write(\"DataType=Quaternion\\n\")\n",
    "        outfile.write(\"version=3\\n\")\n",
    "        outfile.write(\"OpenSimVersion=4.5\\n\")\n",
    "        outfile.write(\"endheader\\n\")\n",
    "        \n",
    "        # Writing the column headers\n",
    "        headers = [\"time\"] + list(imu_to_opensim.values())\n",
    "        outfile.write(\"\\t\".join(headers) + \"\\n\")\n",
    "        \n",
    "        # Writing the data rows\n",
    "        for i, row in enumerate(reader):\n",
    "            time = f\"{i / 100:.6f}\"\n",
    "            data = [time]\n",
    "            for imu, opensim in imu_to_opensim.items():\n",
    "                q0 = f\"{float(row[f'{imu}_OriInc_q0']):.10f}\"\n",
    "                q1 = f\"{float(row[f'{imu}_OriInc_q1']):.10f}\"\n",
    "                q2 = f\"{float(row[f'{imu}_OriInc_q2']):.10f}\"\n",
    "                q3 = f\"{float(row[f'{imu}_OriInc_q3']):.10f}\"\n",
    "                quaternion = f\"{q0},{q1},{q2},{q3}\"\n",
    "                data.append(quaternion)\n",
    "            outfile.write(\"\\t\".join(data) + \"\\n\")\n",
    "\n",
    "SUBJ = 'NLS002'\n",
    "TRIAL = 'SelfPace'\n",
    "\n",
    "input_folder = '/home/mebers/IMU_FDAtoOpenSense'\n",
    "output_folder = os.path.join(input_folder, 'OpenSense', SUBJ)\n",
    "\n",
    "input_csv = os.path.join(input_folder, SUBJ, f'{SUBJ}_{TRIAL}.csv')\n",
    "output_file = f'{SUBJ}_{TRIAL}.sto'  # Replace with the desired output text file path\n",
    "reformat_data(input_csv, output_file)\n"
   ]
  },
  {
   "cell_type": "code",
   "execution_count": null,
   "metadata": {},
   "outputs": [],
   "source": []
  }
 ],
 "metadata": {
  "kernelspec": {
   "display_name": "base",
   "language": "python",
   "name": "python3"
  },
  "language_info": {
   "codemirror_mode": {
    "name": "ipython",
    "version": 3
   },
   "file_extension": ".py",
   "mimetype": "text/x-python",
   "name": "python",
   "nbconvert_exporter": "python",
   "pygments_lexer": "ipython3",
   "version": "3.10.11"
  },
  "orig_nbformat": 4
 },
 "nbformat": 4,
 "nbformat_minor": 2
}
