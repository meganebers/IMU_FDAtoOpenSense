{
 "cells": [
  {
   "cell_type": "code",
   "execution_count": 2,
   "metadata": {},
   "outputs": [],
   "source": [
    "import os\n",
    "import pandas as pd\n",
    "import numpy as np"
   ]
  },
  {
   "cell_type": "code",
   "execution_count": 3,
   "metadata": {},
   "outputs": [],
   "source": [
    "SUBJ = 'NLS002'\n",
    "TRIAL = 'SelfPace'\n",
    "imu_sensors = ['LowerBack', 'R_DorsalFoot', 'R_Wrist', 'L_DorsalFoot', 'L_Wrist', 'R_Ankle', 'R_MidLatThigh', 'L_Ankle', 'L_MidLatThigh', 'Xiphoid', 'R_LatShank', 'Forehead', 'L_LatShank']  # List of IMU sensor names\n",
    "input_folder = r'C:\\Users\\Admin\\Desktop\\Ebers\\FDA_PD_Data\\PD'\n",
    "output_folder = os.path.join(input_folder, 'OpenSense', SUBJ)\n"
   ]
  },
  {
   "cell_type": "code",
   "execution_count": 8,
   "metadata": {},
   "outputs": [
    {
     "name": "stdout",
     "output_type": "stream",
     "text": [
      "C:\\Users\\Admin\\Desktop\\Ebers\\FDA_PD_Data\\PD\\NLS002_SelfPace.csv\n",
      "C:\\Users\\Admin\\Desktop\\Ebers\\FDA_PD_Data\\PD\\NLS002_SelfPace_mat.csv\n",
      "C:\\Users\\Admin\\Desktop\\Ebers\\FDA_PD_Data\\PD\\NLS002_SelfPace_matTURN.csv\n"
     ]
    }
   ],
   "source": [
    "if not os.path.exists(output_folder):\n",
    "    os.makedirs(output_folder)\n",
    "\n",
    "for file in os.listdir(input_folder):\n",
    "    file_found = False\n",
    "\n",
    "    if SUBJ in file and TRIAL in file: #file.endswith('.csv') and \n",
    "        file_path = os.path.join(input_folder, file)\n",
    "        print(file_path)\n",
    "        #df = pd.read_csv(file_path) #read_csv"
   ]
  },
  {
   "cell_type": "code",
   "execution_count": null,
   "metadata": {},
   "outputs": [],
   "source": []
  }
 ],
 "metadata": {
  "kernelspec": {
   "display_name": "base",
   "language": "python",
   "name": "python3"
  },
  "language_info": {
   "codemirror_mode": {
    "name": "ipython",
    "version": 3
   },
   "file_extension": ".py",
   "mimetype": "text/x-python",
   "name": "python",
   "nbconvert_exporter": "python",
   "pygments_lexer": "ipython3",
   "version": "3.10.9"
  },
  "orig_nbformat": 4
 },
 "nbformat": 4,
 "nbformat_minor": 2
}
